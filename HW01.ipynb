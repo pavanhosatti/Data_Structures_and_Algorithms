{
 "cells": [
  {
   "cell_type": "markdown",
   "metadata": {},
   "source": [
    "# Homework 01\n",
    "                            \n",
    "                          Pavan Venkatesh Hosatti\n",
    "Please fill in your name: ____________"
   ]
  },
  {
   "cell_type": "markdown",
   "metadata": {},
   "source": [
    "## Question 0\n",
    "\n",
    "Fill in your name at the top and complete the instructions for the questions below. You need to fill in blanks ________ and write code (sections often contain a comment that begins with \"TODO\"). When you are done, download the file as a .ipynb and upload on canvas.\n",
    "\n",
    "But first, open and work through \"python_intro1.ipynb\" and read up on things you don't understand. See the Python Tutorial pdf on canvas.    "
   ]
  },
  {
   "cell_type": "markdown",
   "metadata": {},
   "source": [
    "## Question 1\n",
    "I demonstrated in class that the integer data type in Python is not a typical 32 or 64 bit integer with a largest value of $2^{32}$ or $2^{64}$ but basically unlimited in size.\n",
    "\n",
    "Find out the format Python is using to store floating point numbers like 3.4 (is it a IEEE floating point standard? which one? what is the total number of bits (32? 64?)? Write your answer below) and do a computation that demonstrates that this is true.    "
   ]
  },
  {
   "cell_type": "code",
   "execution_count": 2,
   "metadata": {},
   "outputs": [
    {
     "name": "stdout",
     "output_type": "stream",
     "text": [
      "13.399999999999999\n",
      "<class 'float'>\n"
     ]
    }
   ],
   "source": [
    "# the number format \"float\" is known as: IEEE 754 double precision floating standard\n",
    "# total number of bits: 64\n",
    "print (7.6+5.8) # TODO: show that your statement above is correct using some expression that shows the precision.\n",
    "print(type(3.4))"
   ]
  },
  {
   "cell_type": "markdown",
   "metadata": {},
   "source": [
    "## Question 2\n",
    "Write a function hey_ho() with arguments start and end that prints the numbers starting from start to end (inclusive) in a single line each. If the number is divisible by 3, print \"hey!\" instead of the number, if the number is divisible by 5 print \"ho!\". Finally, if it is divisible by both, print \"GO Tigers!\" instead.\n",
    "Example for hey_ho(7,16):"
   ]
  },
  {
   "cell_type": "code",
   "execution_count": null,
   "metadata": {},
   "outputs": [],
   "source": [
    "7\n",
    "8\n",
    "hey!\n",
    "ho!\n",
    "11\n",
    "hey!\n",
    "13\n",
    "14\n",
    "GO Tigers!\n",
    "16"
   ]
  },
  {
   "cell_type": "code",
   "execution_count": 1,
   "metadata": {},
   "outputs": [
    {
     "name": "stdout",
     "output_type": "stream",
     "text": [
      "hey!\n",
      "4\n",
      "ho!\n",
      "hey!\n",
      "7\n",
      "8\n",
      "hey!\n",
      "ho!\n",
      "11\n",
      "hey!\n",
      "13\n",
      "14\n",
      "GO Tigers!\n",
      "16\n",
      "hello world\n"
     ]
    }
   ],
   "source": [
    "def hey_ho(start, end):\n",
    "    if start < end:\n",
    "            while(start <= end):\n",
    "                if ((start % 3 == 0) & (start % 5 == 0)):\n",
    "                    print ('GO Tigers!')\n",
    "                elif (start % 5 == 0):\n",
    "                    print ('ho!')\n",
    "                elif (start % 3 == 0):\n",
    "                    print ('hey!')\n",
    "                else:\n",
    "                    print(start)\n",
    "                \n",
    "                start = start + 1\n",
    "            \n",
    "    else:\n",
    "            while(end <= start):\n",
    "                if ((start % 3 == 0) & (start % 5 == 0)):\n",
    "                    print ('GO Tigers!')\n",
    "                elif (start % 5 == 0):\n",
    "                    print ('Ho!')\n",
    "                elif (start % 3 == 0):\n",
    "                    print ('Hey!')\n",
    "                else:\n",
    "                    print(start)\n",
    "                \n",
    "                start = start - 1\n",
    "    print('hello world')\n",
    "    \n",
    "hey_ho(3,16)"
   ]
  },
  {
   "cell_type": "code",
   "execution_count": null,
   "metadata": {},
   "outputs": [],
   "source": []
  }
 ],
 "metadata": {
  "kernelspec": {
   "display_name": "Python 3 (ipykernel)",
   "language": "python",
   "name": "python3"
  },
  "language_info": {
   "codemirror_mode": {
    "name": "ipython",
    "version": 3
   },
   "file_extension": ".py",
   "mimetype": "text/x-python",
   "name": "python",
   "nbconvert_exporter": "python",
   "pygments_lexer": "ipython3",
   "version": "3.10.5"
  }
 },
 "nbformat": 4,
 "nbformat_minor": 4
}
