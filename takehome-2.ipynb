{
 "cells": [
  {
   "cell_type": "markdown",
   "metadata": {},
   "source": [
    "# Takehome: Expression Trees\n",
    "\n",
    "Note: this is an \"open book\" exam. You are free to use your notes, homework solutions, and all of the material uploaded to Canvas. You are not allowed to seek outside help (that includes searching the internet, other literature, or contacting anybody except the instructor).\n",
    "\n",
    "The goal of this exam is to represent and manipulate mathematical expressions like 1+(2*x-7*sqrt(3)) using expression trees. A formula is represented as a collection of nodes that contain 0, 1, or 2 children (x has no child, sqrt has one child, + has two, etc.). We are supporting the following operators:\n",
    "```\n",
    "  + - * / sqrt\n",
    "```"
   ]
  },
  {
   "cell_type": "code",
   "execution_count": 1,
   "metadata": {},
   "outputs": [],
   "source": [
    "%matplotlib inline\n",
    "import matplotlib.pyplot as plt\n",
    "from pylab import rcParams"
   ]
  },
  {
   "cell_type": "code",
   "execution_count": 2,
   "metadata": {},
   "outputs": [],
   "source": [
    "class TreeNode(object):\n",
    "    \"\"\" A node of a binary tree \"\"\"\n",
    "    def __init__(self, data, left_child = None, right_child = None):\n",
    "        self.data = data\n",
    "        self.left = left_child\n",
    "        self.right = right_child\n",
    "    \n",
    "    def traverse_infix(self, result = None):\n",
    "        if result == None:\n",
    "            result = []\n",
    "            \n",
    "        if self.left:\n",
    "            self.left.traverse_infix(result)\n",
    "            \n",
    "        result.append(self.data)\n",
    "        \n",
    "        if self.right:\n",
    "            self.right.traverse_infix(result)\n",
    "            \n",
    "        return result\n",
    "    \n",
    "    def traverse_prefix(self, result = None):\n",
    "        if result == None:\n",
    "            result = []\n",
    "            \n",
    "        result.append(self.data)   \n",
    "            \n",
    "        if self.left:\n",
    "            self.left.traverse_prefix(result)\n",
    "            \n",
    "        if self.right:\n",
    "            self.right.traverse_prefix(result)\n",
    "            \n",
    "        return result\n",
    "   \n",
    "    def traverse_postfix(self, result = None):\n",
    "        if result == None:\n",
    "            result = []\n",
    "            \n",
    "        if self.left:\n",
    "            self.left.traverse_postfix(result)\n",
    "            \n",
    "        if self.right:\n",
    "            self.right.traverse_postfix(result)\n",
    "            \n",
    "        result.append(self.data)\n",
    "        \n",
    "        return result\n",
    "    \n",
    "    def as_string(self):\n",
    "        if self.left or self.right:\n",
    "            print (\"(\", end=\"\")\n",
    "        if self.left:\n",
    "            self.left.as_string()\n",
    "        print (self.data, end=\"\")\n",
    "        if self.right:\n",
    "            self.right.as_string()\n",
    "        if self.left or self.right:\n",
    "            print (\")\", end=\"\")\n",
    "            \n",
    "        return \"\"\n",
    " "
   ]
  },
  {
   "cell_type": "code",
   "execution_count": 3,
   "metadata": {},
   "outputs": [],
   "source": [
    "# create a graphical representation of a binary tree (plot_tree uses plot_node)\n",
    "\n",
    "def plot_node(node, level = 1, posx = 0, posy = 0):\n",
    "    \n",
    "    width = 2000.0 * (0.5**(level))\n",
    "    plt.text(posx, posy, str(node.data), horizontalalignment='center',fontsize=10)\n",
    "    \n",
    "    if node.left:\n",
    "        px = [posx, posx-width]\n",
    "        py = [posy-2, posy-15]\n",
    "        plt.plot(px,py,'b-')\n",
    "        plot_node(node.left, level+1, posx-width, posy-20)\n",
    "    \n",
    "    if node.right:\n",
    "        plot_node(node.right, level+1, posx+width, posy-20)\n",
    "        px = [posx, posx+width]\n",
    "        py = [posy-2, posy-15]\n",
    "        plt.plot(px,py,'b-')\n",
    "\n",
    "def plot_tree(node, figsize=(10,6)):\n",
    "    rcParams['figure.figsize'] = figsize\n",
    "    fig, ax = plt.subplots()\n",
    "    ax.axis('off')\n",
    "    plot_node(node)\n",
    "    plt.show()\n"
   ]
  },
  {
   "cell_type": "markdown",
   "metadata": {},
   "source": [
    "## Question 1\n",
    "complete the following function that prints the tree one node per row (in prefix order), with children indented two spaces by level. Example output:\n",
    "```\n",
    "+\n",
    "  a\n",
    "  *  \n",
    "    b\n",
    "    ^\n",
    "      c\n",
    "      d\n",
    "```"
   ]
  },
  {
   "cell_type": "code",
   "execution_count": 4,
   "metadata": {
    "tags": []
   },
   "outputs": [],
   "source": [
    "def print_tree(node, level = 0):\n",
    "    print (level*'  ', node.data)\n",
    "    level = level + 1\n",
    "    if (node.left):\n",
    "        print_tree(node.left, level)\n",
    "    if (node.right):\n",
    "        print_tree(node.right, level)\n",
    "    "
   ]
  },
  {
   "cell_type": "code",
   "execution_count": 5,
   "metadata": {},
   "outputs": [
    {
     "name": "stdout",
     "output_type": "stream",
     "text": [
      "Infix:  ['a']\n",
      "Infix:  ['c', '^', 'd']\n",
      "Infix:  ['b', '*', 'c', '^', 'd']\n",
      "Infix:  ['a', '+', 'b', '*', 'c', '^', 'd']\n",
      " +\n",
      "   a\n",
      "   *\n",
      "     b\n",
      "     ^\n",
      "       c\n",
      "       d\n"
     ]
    },
    {
     "data": {
      "image/png": "[encoded data removed]",
      "text/plain": [
       "<Figure size 1000x600 with 1 Axes>"
      ]
     },
     "metadata": {},
     "output_type": "display_data"
    }
   ],
   "source": [
    "# generate tree for: a + b * c ^ d\n",
    "a = TreeNode('a')\n",
    "print (\"Infix: \",a.traverse_infix())\n",
    "b = TreeNode('b')\n",
    "c = TreeNode('c')\n",
    "d = TreeNode('d')\n",
    "factor = TreeNode('^',c,d)\n",
    "print (\"Infix: \",factor.traverse_infix())\n",
    "term = TreeNode('*',b,factor)\n",
    "print (\"Infix: \",term.traverse_infix())\n",
    "expr = TreeNode('+',a,term)\n",
    "print (\"Infix: \",expr.traverse_infix())\n",
    "\n",
    "print_tree(expr)\n",
    "plot_tree(expr)"
   ]
  },
  {
   "cell_type": "markdown",
   "metadata": {},
   "source": [
    "## Question 2\n",
    "Generate the expression tree for ((a+b)*c)^d (parentheses are not included directly but are here to show the order of operations)"
   ]
  },
  {
   "cell_type": "code",
   "execution_count": 6,
   "metadata": {},
   "outputs": [
    {
     "name": "stdout",
     "output_type": "stream",
     "text": [
      "Infix ['a', '+', 'b', '*', 'c', '^', 'd']\n"
     ]
    },
    {
     "data": {
      "image/png": "[encoded data removed]",
      "text/plain": [
       "<Figure size 1000x600 with 1 Axes>"
      ]
     },
     "metadata": {},
     "output_type": "display_data"
    }
   ],
   "source": [
    "# ((a+b)*c)^d without parentheses\n",
    "a = TreeNode('a')\n",
    "b = TreeNode('b')\n",
    "c = TreeNode('c')\n",
    "d = TreeNode('d')\n",
    "\n",
    "first = TreeNode ('+', a, b)\n",
    "second = TreeNode ('*', first, c)\n",
    "expr = TreeNode('^', second, d)\n",
    "\n",
    "print (\"Infix\",expr.traverse_infix())\n",
    "\n",
    "plot_tree(expr)"
   ]
  },
  {
   "cell_type": "markdown",
   "metadata": {},
   "source": [
    "## Question 3: traversal\n",
    "Implement implement the missing of the three traversal functions inside TreeNode and test them here:"
   ]
  },
  {
   "cell_type": "code",
   "execution_count": 7,
   "metadata": {},
   "outputs": [
    {
     "name": "stdout",
     "output_type": "stream",
     "text": [
      "infix: ['a', '+', 'b', '*', 'c', '^', 'd']\n",
      "prefix: ['^', '*', '+', 'a', 'b', 'c', 'd']\n",
      "postfix: ['a', 'b', '+', 'c', '*', 'd', '^']\n"
     ]
    }
   ],
   "source": [
    "print (\"infix:\", expr.traverse_infix())\n",
    "print (\"prefix:\", expr.traverse_prefix())\n",
    "print (\"postfix:\", expr.traverse_postfix())\n"
   ]
  },
  {
   "cell_type": "markdown",
   "metadata": {},
   "source": [
    "Now write the as_string() function that returns a string of the expression with parentheses around the arguments of each operator. The output should be\n",
    "```\n",
    "  ((((a+b)*c)^d)\n",
    "```\n",
    "(it is easy to always add parentheses around nodes, but that would produce (a)+(b) etc., skip them if they only contain a single node (number or letter). You can try to get rid of the outer most parentheses, if you want (not necessary)."
   ]
  },
  {
   "cell_type": "code",
   "execution_count": 8,
   "metadata": {},
   "outputs": [
    {
     "name": "stdout",
     "output_type": "stream",
     "text": [
      "(((a+b)*c)^d)\n"
     ]
    }
   ],
   "source": [
    "print(expr.as_string())"
   ]
  },
  {
   "cell_type": "markdown",
   "metadata": {},
   "source": [
    "## Question 4: evaluate an expression tree\n",
    "if we plug in numbers for the variables a,b,c, and d, we can compute the result when traversing the tree (instead of just printing the nodes). Complete the compute() function that computes the result of a tree recursively and returns the result."
   ]
  },
  {
   "cell_type": "code",
   "execution_count": 9,
   "metadata": {
    "scrolled": true
   },
   "outputs": [
    {
     "name": "stdout",
     "output_type": "stream",
     "text": [
      "(2+(3*(4^5)))\n",
      "3074\n"
     ]
    }
   ],
   "source": [
    "def check_operator(operator):\n",
    "    if (operator == '+'):\n",
    "        return True\n",
    "    elif (operator == '*'):\n",
    "        return True\n",
    "    elif (operator == '^'):\n",
    "        return True\n",
    "    else:\n",
    "        return False\n",
    "    \n",
    "def calculate(operator, a, b):\n",
    "    \n",
    "    if (operator == '+'):\n",
    "        return (a+b)\n",
    "    elif (operator == '*'):\n",
    "        return (a*b)\n",
    "    elif (operator == '^'):\n",
    "        return (pow(a,b))\n",
    "    else:\n",
    "        return False\n",
    "\n",
    "# we replace a,b,c,d by numbers:\n",
    "a = TreeNode(2)\n",
    "b = TreeNode(3)\n",
    "c = TreeNode(4)\n",
    "d = TreeNode(5)\n",
    "\n",
    "factor = TreeNode('^',c,d)\n",
    "term = TreeNode('*',b,factor)\n",
    "expr = TreeNode('+',a,term)\n",
    "\n",
    "print(expr.as_string())\n",
    "\n",
    "def compute(node):\n",
    "    operator = node.data\n",
    "    left_data = node.left.data\n",
    "    right_data = node.right.data\n",
    "    \n",
    "    if (check_operator(left_data)):\n",
    "        left_data = compute(node.left)\n",
    "        \n",
    "    if (check_operator(right_data)):\n",
    "        right_data = compute (node.right)\n",
    "\n",
    "    return (calculate(operator, left_data, right_data))\n",
    "    \n",
    "print (compute(expr))"
   ]
  },
  {
   "cell_type": "markdown",
   "metadata": {},
   "source": [
    "## Question 5: parse reverse polish notation\n",
    "\n",
    "If I give you an array of subexpressions in prefix (polish) notation, for example as\n",
    "generated from traverse_prefix(), can you create an expression tree from it?\n",
    "\n",
    "\n"
   ]
  },
  {
   "cell_type": "code",
   "execution_count": 22,
   "metadata": {},
   "outputs": [
    {
     "data": {
      "image/png": "[encoded data removed]",
      "text/plain": [
       "<Figure size 1000x600 with 1 Axes>"
      ]
     },
     "metadata": {},
     "output_type": "display_data"
    },
    {
     "name": "stdout",
     "output_type": "stream",
     "text": [
      "['*', 4.0, 'sqrt']\n",
      "(4.0*sqrt)\n"
     ]
    }
   ],
   "source": [
    "def check_operator(operator):\n",
    "    if (operator == '+'):\n",
    "        return True\n",
    "    elif (operator == '-'):\n",
    "        return True\n",
    "    elif (operator == '*'):\n",
    "        return True\n",
    "    elif (operator == '/'):\n",
    "        return True\n",
    "    elif (operator == '^'):\n",
    "        return True\n",
    "    elif (operator == 'sqrt'):\n",
    "        return True\n",
    "    else:\n",
    "        return False\n",
    "\n",
    "def from_polish_notation(test1):\n",
    "    operators = ['+', '-', '*', '/', 'sqrt']\n",
    "    stack = []\n",
    "    last_inserted_index = 0\n",
    "    \n",
    "    for index, char in enumerate(test1):\n",
    "        if not stack:\n",
    "            stack.append(TreeNode(test1[0]))\n",
    "            \n",
    "        elif stack[last_inserted_index].data in operators:\n",
    "            stack[last_inserted_index].left = TreeNode(test1[index])\n",
    "            stack.append(stack[last_inserted_index].left)\n",
    "            last_inserted_index = index\n",
    "            \n",
    "        else:\n",
    "            for curr_index in range(last_inserted_index, -1, -1):\n",
    "                if not stack[curr_index].right and stack[curr_index].data in operators and curr_index != last_inserted_index:\n",
    "                    stack[curr_index].right = TreeNode(test[index])\n",
    "                    stack.append(stack[curr_index].right)\n",
    "                    last_inserted_index = curr_index\n",
    "                    break\n",
    "                   \n",
    "    return stack[0]      \n",
    "\n",
    "\n",
    "\n",
    "test = ['*','x','sqrt',4.0]\n",
    "expr = from_polish_notation(test)\n",
    "plot_tree(expr)\n",
    "print(expr.traverse_prefix())\n",
    "print(expr.as_string())"
   ]
  },
  {
   "cell_type": "code",
   "execution_count": 11,
   "metadata": {},
   "outputs": [
    {
     "name": "stdout",
     "output_type": "stream",
     "text": [
      "input: [42.0]\n",
      "[42.0]\n",
      "input: ['-', 2.5, 1.0]\n",
      "['-', 2.5, 1.0]\n",
      "input: ['+', 1.0, '*', 2.0, 3.0]\n",
      "['+', 2.0, '*', 3.0]\n",
      "input: ['+', '*', 1.5, 2.0, '/', 4.0, 2.0]\n",
      "['+', '*', '/', 4.0, 2.0, 2.0]\n",
      "input: ['+', '*', 3.0, 'sqrt', 'x', '*', 'sqrt', '-', 'x', 0.0, 4.0]\n",
      "['+', '*', 'x', 'sqrt', 'sqrt', '-', 4.0, 0.0, '*']\n"
     ]
    }
   ],
   "source": [
    "# Here are a few other examples:\n",
    "examples = [\n",
    "        [42.0],\n",
    "        ['-',2.5,1.0],\n",
    "        ['+',1.0,'*',2.0,3.0],\n",
    "        ['+','*',1.5,2.0,'/',4.0,2.0],\n",
    "        ['+','*',3.0,'sqrt','x','*','sqrt','-','x',0.0, 4.0],\n",
    "    ]\n",
    "\n",
    "for example in examples:\n",
    "    print(\"input:\", example)\n",
    "    expr = from_polish_notation(example)\n",
    "    print(expr.traverse_prefix())    "
   ]
  },
  {
   "cell_type": "code",
   "execution_count": null,
   "metadata": {},
   "outputs": [],
   "source": []
  }
 ],
 "metadata": {
  "kernelspec": {
   "display_name": "Python 3 (ipykernel)",
   "language": "python",
   "name": "python3"
  },
  "language_info": {
   "codemirror_mode": {
    "name": "ipython",
    "version": 3
   },
   "file_extension": ".py",
   "mimetype": "text/x-python",
   "name": "python",
   "nbconvert_exporter": "python",
   "pygments_lexer": "ipython3",
   "version": "3.10.5"
  },
  "name": "HW08.ipynb"
 },
 "nbformat": 4,
 "nbformat_minor": 4
}
