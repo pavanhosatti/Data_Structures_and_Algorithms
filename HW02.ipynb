{
 "cells": [
  {
   "cell_type": "markdown",
   "metadata": {},
   "source": [
    "# Homework 02\n",
    "\n",
    "Please fill in: Pavan Venkatesh Hosatti"
   ]
  },
  {
   "cell_type": "markdown",
   "metadata": {},
   "source": [
    "The goal of this homework is to understand iterative and recursive algorithms and complexity. We are using Pell Numbers as an example. They are defined as:\n",
    "$$\n",
    "    P_n = \\begin{cases} 0 & n=0 \\\\ 1 & n=1 \\\\ P_{n-2} + 2P_{n-1} & \\text{else} \\end{cases}\n",
    "$$"
   ]
  },
  {
   "cell_type": "markdown",
   "metadata": {},
   "source": [
    "## Question 1\n",
    "\n",
    "Write a function print_elements(l) that prints every element of the list L. If an element is a list by itself, recursively call print_elements() for this element instead. To find out if a variable x is a list, use type(x). Note that the function should not return anything!"
   ]
  },
  {
   "cell_type": "code",
   "execution_count": 1,
   "metadata": {},
   "outputs": [
    {
     "name": "stdout",
     "output_type": "stream",
     "text": [
      "1\n",
      "hello\n",
      "3\n",
      "4\n",
      "5\n",
      "6\n",
      "1\n",
      "2\n",
      "3\n"
     ]
    }
   ],
   "source": [
    "def print_elements(L):\n",
    "    for i in range(len(L)):\n",
    "            if type(L[i]) == list:\n",
    "                print_elements(L[i]) # Recursively calling function to print elements of list\n",
    "            else:\n",
    "                print(L[i]) \n",
    "\n",
    "print_elements([[1,\"hello\"], 3, [4,5,6],[1,[2,[3]]]])"
   ]
  },
  {
   "cell_type": "markdown",
   "metadata": {},
   "source": [
    "## Question 2\n",
    "\n",
    "Write pell_recursive(n) that returns the n-th Pell number as a recursive function using the definition above."
   ]
  },
  {
   "cell_type": "code",
   "execution_count": 2,
   "metadata": {},
   "outputs": [
    {
     "name": "stdout",
     "output_type": "stream",
     "text": [
      "[0, 1, 2, 5, 12, 29, 70, 169, 408, 985, 2378, 5741, 13860, 33461, 80782, 195025, 470832, 1136689, 2744210, 6625109]\n"
     ]
    }
   ],
   "source": [
    "def pell_recursive(n):\n",
    "    if n <= 1:\n",
    "        return n\n",
    "    else:\n",
    "        return (2*pell_recursive(n-1))+pell_recursive(n-2)\n",
    "\n",
    "print ([pell_recursive(n) for n in range(0,20)])"
   ]
  },
  {
   "cell_type": "markdown",
   "metadata": {},
   "source": [
    "### Question 3\n",
    "Write a function pell_recursive_cost(n) that returns the total number of function calls pell_recursive() will do for a given n (it should be 1 for n=0 and n=1, and 3 for n=2). What sequence is that? What is the complexity of pell_recursive(n)? Is it polynomial?"
   ]
  },
  {
   "cell_type": "code",
   "execution_count": 3,
   "metadata": {},
   "outputs": [
    {
     "name": "stdout",
     "output_type": "stream",
     "text": [
      "[1, 1, 3, 5, 9, 15, 25, 41, 67, 109, 177, 287, 465, 753, 1219, 1973, 3193, 5167, 8361, 13529]\n"
     ]
    }
   ],
   "source": [
    "y = 0\n",
    "def pell_recursive_cost(n):\n",
    "    global y\n",
    "    y = 0\n",
    "    pell_recursive(n)\n",
    "    return y\n",
    "    \n",
    "\n",
    "def pell_recursive(n):\n",
    "        global y\n",
    "        y = y + 1\n",
    "        if n <= 1:\n",
    "            return n\n",
    "        else:\n",
    "            return (2*pell_recursive(n-1))+pell_recursive(n-2)\n",
    "            \n",
    "print ([pell_recursive_cost(n) for n in range(0,20)])\n",
    "\n",
    "# this sequence is known as Pell Sequence\n",
    "# complexity is O(2^n) (Exponential Time Complexity)\n",
    "# complexity  (is) not polynomial"
   ]
  },
  {
   "cell_type": "markdown",
   "metadata": {},
   "source": [
    "## Question 4\n",
    "Write a function pell_iterative(n) that returns the n-th Pell number using an iterative approach (that does not recompute P_2 more than once when computing P_5 for example). Check your result."
   ]
  },
  {
   "cell_type": "code",
   "execution_count": 2,
   "metadata": {},
   "outputs": [
    {
     "name": "stdout",
     "output_type": "stream",
     "text": [
      "[0, 1, 2, 5, 12, 29, 70, 169, 408, 985, 2378, 5741, 13860, 33461, 80782, 195025, 470832, 1136689, 2744210, 6625109]\n"
     ]
    }
   ],
   "source": [
    "def pell_iterative(n):\n",
    "    if n <= 1:\n",
    "        return n\n",
    "    r = 0\n",
    "    a = 0\n",
    "    b = 1\n",
    "    for i in range (1,n):\n",
    "        r = (2*b)+a\n",
    "        a = b\n",
    "        b = r\n",
    "    return r\n",
    "\n",
    "print ([pell_iterative(n) for n in range(0,20)])"
   ]
  },
  {
   "cell_type": "markdown",
   "metadata": {},
   "source": [
    "## Question 5\n",
    "Write a function pell_iterative_cost(n) that returns the number of additions and multiplications done to compute pell_iterative(n). What is the complexity of pell_iterative(n)?"
   ]
  },
  {
   "cell_type": "code",
   "execution_count": 5,
   "metadata": {},
   "outputs": [
    {
     "name": "stdout",
     "output_type": "stream",
     "text": [
      "[(0, 0), (0, 0), (1, 1), (2, 2), (3, 3), (4, 4), (5, 5), (6, 6), (7, 7), (8, 8), (9, 9), (10, 10), (11, 11), (12, 12), (13, 13), (14, 14), (15, 15), (16, 16), (17, 17), (18, 18)]\n"
     ]
    }
   ],
   "source": [
    "def pell_iterative_cost(n):\n",
    "    no_of_mul = no_of_addn = 0\n",
    "    if n <= 1:\n",
    "        return (no_of_mul,no_of_addn)\n",
    "    r = 0\n",
    "    a = 0\n",
    "    b = 1\n",
    "    for i in range (1,n):\n",
    "        no_of_mul += 1\n",
    "        no_of_addn += 1\n",
    "        r = (2*b)+a\n",
    "        a = b\n",
    "        b = r\n",
    "    return (no_of_mul, no_of_addn)\n",
    "\n",
    "print ([pell_iterative_cost(n) for n in range(0,20)])\n",
    "\n",
    "# complexity is: O(n) (Linear)"
   ]
  },
  {
   "cell_type": "markdown",
   "metadata": {},
   "source": [
    "## Question 6\n",
    "Look up Pell number on wikipedia and find the direct formula and implement it as pell_direct(n) (you should round your answer using round()). Find the smallest n where the direct formula is no longer accurate. Explain why."
   ]
  },
  {
   "cell_type": "code",
   "execution_count": 1,
   "metadata": {},
   "outputs": [
    {
     "name": "stdout",
     "output_type": "stream",
     "text": [
      "[0, 1, 2, 5, 12, 29, 70, 169, 408, 985, 2378, 5741, 13860, 33461, 80782, 195025, 470832, 1136689, 2744210, 6625109]\n"
     ]
    }
   ],
   "source": [
    "from math import sqrt # needed for math.sqrt()\n",
    "\n",
    "def pell_direct(n):\n",
    "    k = (((1+sqrt(2)) ** n)-((1-sqrt(2))) ** n)/(2*sqrt(2))\n",
    "    return round(k)\n",
    "\n",
    "print([ pell_direct(n) for n in range (0,20) ])\n",
    "    \n",
    "# the smallest n where the direct formula is not accurate is 39."
   ]
  },
  {
   "cell_type": "code",
   "execution_count": 9,
   "metadata": {},
   "outputs": [
    {
     "name": "stdout",
     "output_type": "stream",
     "text": [
      "39\n"
     ]
    }
   ],
   "source": [
    "# comparison of pell_direct(n) and pell_iterative(n)\n",
    "\n",
    "for n in range(0,100):\n",
    "    if pell_iterative(n) == pell_direct(n):\n",
    "        continue\n",
    "    else:\n",
    "        print(n)\n",
    "        break\n",
    "\n",
    "# why does this happen for this n? _______\n",
    "# _____________"
   ]
  },
  {
   "cell_type": "markdown",
   "metadata": {},
   "source": [
    "## Question 7\n",
    "Observe the time it takes to compute $P_{10}, P_{20}, P_{30}$ (There is nothing for you to do here except running the following block)"
   ]
  },
  {
   "cell_type": "code",
   "execution_count": 13,
   "metadata": {},
   "outputs": [
    {
     "name": "stdout",
     "output_type": "stream",
     "text": [
      "for n = 10 :\n",
      "16.9 µs ± 37.2 ns per loop (mean ± std. dev. of 7 runs, 100,000 loops each)\n",
      "425 ns ± 1.28 ns per loop (mean ± std. dev. of 7 runs, 1,000,000 loops each)\n",
      "258 ns ± 0.457 ns per loop (mean ± std. dev. of 7 runs, 1,000,000 loops each)\n",
      "for n = 20 :\n",
      "2.07 ms ± 5.97 µs per loop (mean ± std. dev. of 7 runs, 100 loops each)\n",
      "800 ns ± 17.4 ns per loop (mean ± std. dev. of 7 runs, 1,000,000 loops each)\n",
      "264 ns ± 3.84 ns per loop (mean ± std. dev. of 7 runs, 1,000,000 loops each)\n",
      "for n = 30 :\n",
      "256 ms ± 2.16 ms per loop (mean ± std. dev. of 7 runs, 1 loop each)\n",
      "1.21 µs ± 5.75 ns per loop (mean ± std. dev. of 7 runs, 1,000,000 loops each)\n",
      "264 ns ± 2.56 ns per loop (mean ± std. dev. of 7 runs, 1,000,000 loops each)\n"
     ]
    }
   ],
   "source": [
    "for n in [10,20,30]:\n",
    "    print (\"for n =\",n,\":\")\n",
    "    %timeit pell_recursive(n)\n",
    "    %timeit pell_iterative(n)\n",
    "    %timeit pell_direct(n)"
   ]
  },
  {
   "cell_type": "code",
   "execution_count": null,
   "metadata": {},
   "outputs": [],
   "source": []
  }
 ],
 "metadata": {
  "kernelspec": {
   "display_name": "Python 3 (ipykernel)",
   "language": "python",
   "name": "python3"
  },
  "language_info": {
   "codemirror_mode": {
    "name": "ipython",
    "version": 3
   },
   "file_extension": ".py",
   "mimetype": "text/x-python",
   "name": "python",
   "nbconvert_exporter": "python",
   "pygments_lexer": "ipython3",
   "version": "3.10.5"
  }
 },
 "nbformat": 4,
 "nbformat_minor": 4
}
